{
 "cells": [
  {
   "cell_type": "code",
   "execution_count": 1,
   "metadata": {
    "pycharm": {
     "name": "#%%\n"
    },
    "tags": []
   },
   "outputs": [],
   "source": [
    "import entrezpy.efetch.efetcher as ef\n",
    "import pandas as pd\n",
    "from utils import EFetchAnalyzer\n",
    "\n",
    "YOUR_EMAIL = \"\""
   ]
  },
  {
   "cell_type": "code",
   "execution_count": 2,
   "metadata": {
    "collapsed": false,
    "jupyter": {
     "outputs_hidden": false
    },
    "pycharm": {
     "name": "#%%\n"
    }
   },
   "outputs": [],
   "source": [
    "# STUDY_IDS = [\n",
    "#     'ERR3978173', 'ERR3978174', 'ERR3978175', 'ERR3978176', 'ERR3978177']\n",
    "STUDY_IDS = ['SRR1003310', 'SRR12487779', 'ERR3978177']\n",
    "\n",
    "efetcher = ef.Efetcher(\n",
    "    'efetcher', YOUR_EMAIL, apikey=None,\n",
    "    apikey_var=None, threads=None, qid=None\n",
    ")"
   ]
  },
  {
   "cell_type": "code",
   "execution_count": 3,
   "metadata": {
    "collapsed": false,
    "jupyter": {
     "outputs_hidden": false
    },
    "pycharm": {
     "name": "#%% metadata query\n"
    }
   },
   "outputs": [],
   "source": [
    "metadata_response = efetcher.inquire(\n",
    "    {\n",
    "        'db': 'sra',\n",
    "        'id': STUDY_IDS,  # this has to be a list\n",
    "        'rettype': 'xml',\n",
    "        'retmode': 'text'\n",
    "    }, analyzer=EFetchAnalyzer()\n",
    ")"
   ]
  },
  {
   "cell_type": "code",
   "execution_count": 4,
   "metadata": {
    "collapsed": false,
    "jupyter": {
     "outputs_hidden": false
    },
    "pycharm": {
     "name": "#%%\n"
    }
   },
   "outputs": [],
   "source": [
    "metadata_df = metadata_response.result.to_df()"
   ]
  },
  {
   "cell_type": "code",
   "execution_count": 5,
   "metadata": {
    "collapsed": false,
    "jupyter": {
     "outputs_hidden": false
    },
    "pycharm": {
     "name": "#%%\n"
    }
   },
   "outputs": [
    {
     "data": {
      "text/html": [
       "<div>\n",
       "<style scoped>\n",
       "    .dataframe tbody tr th:only-of-type {\n",
       "        vertical-align: middle;\n",
       "    }\n",
       "\n",
       "    .dataframe tbody tr th {\n",
       "        vertical-align: top;\n",
       "    }\n",
       "\n",
       "    .dataframe thead th {\n",
       "        text-align: right;\n",
       "    }\n",
       "</style>\n",
       "<table border=\"1\" class=\"dataframe\">\n",
       "  <thead>\n",
       "    <tr style=\"text-align: right;\">\n",
       "      <th></th>\n",
       "      <th>investigation_type</th>\n",
       "      <th>collection_date</th>\n",
       "      <th>geo_loc</th>\n",
       "      <th>fermentation_state</th>\n",
       "      <th>site_code</th>\n",
       "      <th>replicate</th>\n",
       "      <th>isolation_source</th>\n",
       "      <th>geo_loc_name</th>\n",
       "      <th>lat_lon</th>\n",
       "      <th>BioSampleModel</th>\n",
       "      <th>ENA-FIRST-PUBLIC</th>\n",
       "      <th>ENA-LAST-UPDATE</th>\n",
       "      <th>amount or size of sample collected</th>\n",
       "      <th>collection date</th>\n",
       "      <th>collection day</th>\n",
       "      <th>collection hours</th>\n",
       "      <th>environment (biome)</th>\n",
       "      <th>environment (feature)</th>\n",
       "      <th>environment (material)</th>\n",
       "      <th>geographic location (country and/or sea)</th>\n",
       "      <th>geographic location (latitude)</th>\n",
       "      <th>geographic location (longitude)</th>\n",
       "      <th>investigation type</th>\n",
       "      <th>multiplex identifiers</th>\n",
       "      <th>pcr primers</th>\n",
       "      <th>plant-associated environmental package</th>\n",
       "      <th>project name</th>\n",
       "      <th>sample storage temperature</th>\n",
       "      <th>sample volume or weight for DNA extraction</th>\n",
       "      <th>sequencing method</th>\n",
       "      <th>subspecific genetic lineage</th>\n",
       "      <th>target subfragment</th>\n",
       "    </tr>\n",
       "  </thead>\n",
       "  <tbody>\n",
       "    <tr>\n",
       "      <th>SRR1003310</th>\n",
       "      <td>metagenome</td>\n",
       "      <td>2010</td>\n",
       "      <td>Portugal (Alentejo, Bairrada, Dão, Douro, Estr...</td>\n",
       "      <td>initial</td>\n",
       "      <td>NaN</td>\n",
       "      <td>NaN</td>\n",
       "      <td>NaN</td>\n",
       "      <td>NaN</td>\n",
       "      <td>NaN</td>\n",
       "      <td>NaN</td>\n",
       "      <td>NaN</td>\n",
       "      <td>NaN</td>\n",
       "      <td>NaN</td>\n",
       "      <td>NaN</td>\n",
       "      <td>NaN</td>\n",
       "      <td>NaN</td>\n",
       "      <td>NaN</td>\n",
       "      <td>NaN</td>\n",
       "      <td>NaN</td>\n",
       "      <td>NaN</td>\n",
       "      <td>NaN</td>\n",
       "      <td>NaN</td>\n",
       "      <td>NaN</td>\n",
       "      <td>NaN</td>\n",
       "      <td>NaN</td>\n",
       "      <td>NaN</td>\n",
       "      <td>NaN</td>\n",
       "      <td>NaN</td>\n",
       "      <td>NaN</td>\n",
       "      <td>NaN</td>\n",
       "      <td>NaN</td>\n",
       "      <td>NaN</td>\n",
       "    </tr>\n",
       "    <tr>\n",
       "      <th>SRR12487779</th>\n",
       "      <td>NaN</td>\n",
       "      <td>2016</td>\n",
       "      <td>NaN</td>\n",
       "      <td>NaN</td>\n",
       "      <td>SNC1</td>\n",
       "      <td>D</td>\n",
       "      <td>grape_juice</td>\n",
       "      <td>USA: Davis, California</td>\n",
       "      <td>38.532 N 121.751 W</td>\n",
       "      <td>Metagenome or environmental</td>\n",
       "      <td>NaN</td>\n",
       "      <td>NaN</td>\n",
       "      <td>NaN</td>\n",
       "      <td>NaN</td>\n",
       "      <td>NaN</td>\n",
       "      <td>NaN</td>\n",
       "      <td>NaN</td>\n",
       "      <td>NaN</td>\n",
       "      <td>NaN</td>\n",
       "      <td>NaN</td>\n",
       "      <td>NaN</td>\n",
       "      <td>NaN</td>\n",
       "      <td>NaN</td>\n",
       "      <td>NaN</td>\n",
       "      <td>NaN</td>\n",
       "      <td>NaN</td>\n",
       "      <td>NaN</td>\n",
       "      <td>NaN</td>\n",
       "      <td>NaN</td>\n",
       "      <td>NaN</td>\n",
       "      <td>NaN</td>\n",
       "      <td>NaN</td>\n",
       "    </tr>\n",
       "    <tr>\n",
       "      <th>ERR3978177</th>\n",
       "      <td>NaN</td>\n",
       "      <td>NaN</td>\n",
       "      <td>NaN</td>\n",
       "      <td>NaN</td>\n",
       "      <td>NaN</td>\n",
       "      <td>NaN</td>\n",
       "      <td>NaN</td>\n",
       "      <td>NaN</td>\n",
       "      <td>NaN</td>\n",
       "      <td>NaN</td>\n",
       "      <td>2020-05-31</td>\n",
       "      <td>2020-03-06</td>\n",
       "      <td>50</td>\n",
       "      <td>2015-09-28</td>\n",
       "      <td>2</td>\n",
       "      <td>22</td>\n",
       "      <td>berry plant</td>\n",
       "      <td>grape plant</td>\n",
       "      <td>wine must</td>\n",
       "      <td>Germany</td>\n",
       "      <td>48.71 N</td>\n",
       "      <td>9.12 E</td>\n",
       "      <td>metagenome</td>\n",
       "      <td>GTAAGGAGTCGCCTTA</td>\n",
       "      <td>GTGCCAGCMGCCGCGGTAAGGACTACHVGGGTWTCTAAT</td>\n",
       "      <td>plant-associated</td>\n",
       "      <td>wine must microbiota analysis during fermentation</td>\n",
       "      <td>-80</td>\n",
       "      <td>0.5</td>\n",
       "      <td>Illumina MiSeq</td>\n",
       "      <td>Bacchus1</td>\n",
       "      <td>16S rRNA gene</td>\n",
       "    </tr>\n",
       "  </tbody>\n",
       "</table>\n",
       "</div>"
      ],
      "text/plain": [
       "            investigation_type collection_date  \\\n",
       "SRR1003310          metagenome            2010   \n",
       "SRR12487779                NaN            2016   \n",
       "ERR3978177                 NaN             NaN   \n",
       "\n",
       "                                                       geo_loc  \\\n",
       "SRR1003310   Portugal (Alentejo, Bairrada, Dão, Douro, Estr...   \n",
       "SRR12487779                                                NaN   \n",
       "ERR3978177                                                 NaN   \n",
       "\n",
       "            fermentation_state site_code replicate isolation_source  \\\n",
       "SRR1003310             initial       NaN       NaN              NaN   \n",
       "SRR12487779                NaN      SNC1         D      grape_juice   \n",
       "ERR3978177                 NaN       NaN       NaN              NaN   \n",
       "\n",
       "                       geo_loc_name             lat_lon  \\\n",
       "SRR1003310                      NaN                 NaN   \n",
       "SRR12487779  USA: Davis, California  38.532 N 121.751 W   \n",
       "ERR3978177                      NaN                 NaN   \n",
       "\n",
       "                          BioSampleModel ENA-FIRST-PUBLIC ENA-LAST-UPDATE  \\\n",
       "SRR1003310                           NaN              NaN             NaN   \n",
       "SRR12487779  Metagenome or environmental              NaN             NaN   \n",
       "ERR3978177                           NaN       2020-05-31      2020-03-06   \n",
       "\n",
       "            amount or size of sample collected collection date collection day  \\\n",
       "SRR1003310                                 NaN             NaN            NaN   \n",
       "SRR12487779                                NaN             NaN            NaN   \n",
       "ERR3978177                                  50      2015-09-28              2   \n",
       "\n",
       "            collection hours environment (biome) environment (feature)  \\\n",
       "SRR1003310               NaN                 NaN                   NaN   \n",
       "SRR12487779              NaN                 NaN                   NaN   \n",
       "ERR3978177                22         berry plant           grape plant   \n",
       "\n",
       "            environment (material) geographic location (country and/or sea)  \\\n",
       "SRR1003310                     NaN                                      NaN   \n",
       "SRR12487779                    NaN                                      NaN   \n",
       "ERR3978177               wine must                                  Germany   \n",
       "\n",
       "            geographic location (latitude) geographic location (longitude)  \\\n",
       "SRR1003310                             NaN                             NaN   \n",
       "SRR12487779                            NaN                             NaN   \n",
       "ERR3978177                         48.71 N                          9.12 E   \n",
       "\n",
       "            investigation type multiplex identifiers  \\\n",
       "SRR1003310                 NaN                   NaN   \n",
       "SRR12487779                NaN                   NaN   \n",
       "ERR3978177          metagenome      GTAAGGAGTCGCCTTA   \n",
       "\n",
       "                                         pcr primers  \\\n",
       "SRR1003310                                       NaN   \n",
       "SRR12487779                                      NaN   \n",
       "ERR3978177   GTGCCAGCMGCCGCGGTAAGGACTACHVGGGTWTCTAAT   \n",
       "\n",
       "            plant-associated environmental package  \\\n",
       "SRR1003310                                     NaN   \n",
       "SRR12487779                                    NaN   \n",
       "ERR3978177                        plant-associated   \n",
       "\n",
       "                                                  project name  \\\n",
       "SRR1003310                                                 NaN   \n",
       "SRR12487779                                                NaN   \n",
       "ERR3978177   wine must microbiota analysis during fermentation   \n",
       "\n",
       "            sample storage temperature  \\\n",
       "SRR1003310                         NaN   \n",
       "SRR12487779                        NaN   \n",
       "ERR3978177                         -80   \n",
       "\n",
       "            sample volume or weight for DNA extraction sequencing method  \\\n",
       "SRR1003310                                         NaN               NaN   \n",
       "SRR12487779                                        NaN               NaN   \n",
       "ERR3978177                                         0.5    Illumina MiSeq   \n",
       "\n",
       "            subspecific genetic lineage target subfragment  \n",
       "SRR1003310                          NaN                NaN  \n",
       "SRR12487779                         NaN                NaN  \n",
       "ERR3978177                     Bacchus1      16S rRNA gene  "
      ]
     },
     "execution_count": 5,
     "metadata": {},
     "output_type": "execute_result"
    }
   ],
   "source": [
    "pd.set_option('display.max_columns', None)\n",
    "metadata_df"
   ]
  },
  {
   "cell_type": "code",
   "execution_count": null,
   "metadata": {
    "collapsed": false,
    "jupyter": {
     "outputs_hidden": false
    },
    "pycharm": {
     "name": "#%%\n"
    }
   },
   "outputs": [],
   "source": []
  }
 ],
 "metadata": {
  "kernelspec": {
   "display_name": "Python 3",
   "language": "python",
   "name": "python3"
  },
  "language_info": {
   "codemirror_mode": {
    "name": "ipython",
    "version": 3
   },
   "file_extension": ".py",
   "mimetype": "text/x-python",
   "name": "python",
   "nbconvert_exporter": "python",
   "pygments_lexer": "ipython3",
   "version": "3.6.13"
  }
 },
 "nbformat": 4,
 "nbformat_minor": 4
}
