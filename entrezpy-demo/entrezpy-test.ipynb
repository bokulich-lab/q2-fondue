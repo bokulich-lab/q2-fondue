{
 "cells": [
  {
   "source": [
    "# Notebook displaying current metadata and sequence extraction"
   ],
   "cell_type": "markdown",
   "metadata": {}
  },
  {
   "cell_type": "code",
   "execution_count": null,
   "metadata": {
    "pycharm": {
     "name": "#%%\n"
    },
    "tags": []
   },
   "outputs": [],
   "source": [
    "import entrezpy.efetch.efetcher as ef\n",
    "import pandas as pd\n",
    "from utils import EFetchAnalyzer\n",
    "from utils_sra import get_seqs\n",
    "\n",
    "pd.set_option('display.max_columns', None)\n",
    "\n",
    "%load_ext autoreload\n",
    "%autoreload 2"
   ]
  },
  {
   "source": [
    "## ! Enter your email and study ids below"
   ],
   "cell_type": "markdown",
   "metadata": {}
  },
  {
   "cell_type": "code",
   "execution_count": null,
   "metadata": {},
   "outputs": [],
   "source": [
    "YOUR_EMAIL = \"\"\n",
    "STUDY_IDS = [\n",
    "    'ERR3978173', 'ERR3978174', 'ERR3978175', 'ERR3978176', 'ERR3978177']\n",
    "# STUDY_IDS = ['SRR1003310', 'SRR12487779', 'ERR3978177']\n"
   ]
  },
  {
   "source": [
    "## Download metadata of studies as df"
   ],
   "cell_type": "markdown",
   "metadata": {}
  },
  {
   "cell_type": "code",
   "execution_count": null,
   "metadata": {
    "collapsed": false,
    "jupyter": {
     "outputs_hidden": false
    },
    "pycharm": {
     "name": "#%%\n"
    }
   },
   "outputs": [],
   "source": [
    "efetcher = ef.Efetcher(\n",
    "    'efetcher', YOUR_EMAIL, apikey=None,\n",
    "    apikey_var=None, threads=None, qid=None\n",
    ")\n",
    "\n",
    "metadata_response = efetcher.inquire(\n",
    "    {\n",
    "        'db': 'sra',\n",
    "        'id': STUDY_IDS,  # this has to be a list\n",
    "        'rettype': 'xml',\n",
    "        'retmode': 'text'\n",
    "    }, analyzer=EFetchAnalyzer()\n",
    ")\n",
    "\n",
    "metadata_df = metadata_response.result.to_df()\n",
    "metadata_df"
   ]
  },
  {
   "source": [
    "## Download sequences of studies as fastq"
   ],
   "cell_type": "markdown",
   "metadata": {}
  },
  {
   "cell_type": "code",
   "execution_count": null,
   "metadata": {
    "collapsed": false,
    "jupyter": {
     "outputs_hidden": false
    },
    "pycharm": {
     "name": "#%%\n"
    }
   },
   "outputs": [],
   "source": [
    "get_seqs(STUDY_IDS)"
   ]
  },
  {
   "cell_type": "code",
   "execution_count": null,
   "metadata": {},
   "outputs": [],
   "source": []
  }
 ],
 "metadata": {
  "kernelspec": {
   "name": "python3",
   "display_name": "Python 3",
   "language": "python"
  },
  "language_info": {
   "codemirror_mode": {
    "name": "ipython",
    "version": 3
   },
   "file_extension": ".py",
   "mimetype": "text/x-python",
   "name": "python",
   "nbconvert_exporter": "python",
   "pygments_lexer": "ipython3",
   "version": "3.8.8"
  }
 },
 "nbformat": 4,
 "nbformat_minor": 4
}